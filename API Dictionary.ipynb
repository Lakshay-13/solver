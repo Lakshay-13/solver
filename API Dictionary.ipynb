{
 "cells": [
  {
   "cell_type": "code",
   "execution_count": 1,
   "id": "36e0f725-8218-4ab4-a514-512a52391124",
   "metadata": {},
   "outputs": [],
   "source": [
    "import json"
   ]
  },
  {
   "cell_type": "code",
   "execution_count": 2,
   "id": "fadabbb5-0d63-4b4c-9b28-818c5b5fd91a",
   "metadata": {},
   "outputs": [],
   "source": [
    "sample_dictionary= {\n",
    "    'user_id' : 'abc', #To track user information\n",
    "    'account_type' : 2, # To track the type of subscription taken by the user. 0 for free, 1 for tier 1, 2 for tier 2\n",
    "    'hub_api' : '123', # Neurodiffhub API key of the user.\n",
    "    'eq_type' : 0, # 0 for ODE, 1 for PDE\n",
    "    'eq_family' : 0, # 0 for single equation, 1 for system of equations\n",
    "    'eq_variables' : {'eq_1': {'dy_dx': 1, 'y': 1, 'x': 1, 'c':0}}, # User entered values for equation to be solved\n",
    "    'time_domain_start' : 0, # Start of the interval of training.\n",
    "    'time_domain_end' : 1, # End of the interval of training.\n",
    "    'ibc' : {'condition_1': {'x_0':0, 'y_0':0}}, # User entered values for IBCs\n",
    "    'solver' : {\n",
    "              'type' : 0, # 0 for adam, 1 for lbfgs\n",
    "              'lr' : 1e-3 # Learning rate for the solver\n",
    "             },\n",
    "    'epochs' : 100, # Number of epochs to train,\n",
    "    'save_to_hub' : 0 # 0 for No, 1 for Yes\n",
    "}"
   ]
  },
  {
   "cell_type": "code",
   "execution_count": 3,
   "id": "6bf8e63a-aec7-452b-9a3d-959a9f1db8fe",
   "metadata": {},
   "outputs": [],
   "source": [
    "with open('api_request.json', 'w') as json_file:\n",
    "    json.dump(sample_dictionary, json_file)"
   ]
  },
  {
   "cell_type": "code",
   "execution_count": 4,
   "id": "c43728e9-71e3-4150-9542-f4e057b3bae9",
   "metadata": {},
   "outputs": [],
   "source": [
    "with open('api_request.json', 'r') as json_file:\n",
    "    data = json.load(json_file)"
   ]
  },
  {
   "cell_type": "code",
   "execution_count": 5,
   "id": "ee25d7df-ac34-43c4-8717-0cc234019e0b",
   "metadata": {},
   "outputs": [
    {
     "data": {
      "text/plain": [
       "{'user_id': 'abc',\n",
       " 'account_type': 2,\n",
       " 'hub_api': '123',\n",
       " 'eq_type': 0,\n",
       " 'eq_family': 0,\n",
       " 'eq_variables': {'eq_1': {'dy_dx': 1, 'y': 1, 'x': 1, 'c': 0}},\n",
       " 'time_domain_start': 0,\n",
       " 'time_domain_end': 1,\n",
       " 'ibc': {'condition_1': {'x_0': 0, 'y_0': 0}},\n",
       " 'solver': {'type': 0, 'lr': 0.001},\n",
       " 'epochs': 100,\n",
       " 'save_to_hub': 0}"
      ]
     },
     "execution_count": 5,
     "metadata": {},
     "output_type": "execute_result"
    }
   ],
   "source": [
    "data"
   ]
  },
  {
   "cell_type": "code",
   "execution_count": 6,
   "id": "3f8a1969-c56e-46a1-b318-5f807f7bdd97",
   "metadata": {},
   "outputs": [
    {
     "name": "stderr",
     "output_type": "stream",
     "text": [
      "C:\\Users\\laksh\\anaconda3\\Lib\\site-packages\\torch\\__init__.py:614: UserWarning: torch.set_default_tensor_type() is deprecated as of PyTorch 2.1, please use torch.set_default_dtype() and torch.set_default_device() as alternatives. (Triggered internally at C:\\cb\\pytorch_1000000000000\\work\\torch\\csrc\\tensor\\python_tensor.cpp:453.)\n",
      "  _C._set_default_tensor_type(t)\n"
     ]
    }
   ],
   "source": [
    "import solver"
   ]
  },
  {
   "cell_type": "code",
   "execution_count": null,
   "id": "30d131fb-e02b-41ac-9c06-ed12f1b3031c",
   "metadata": {},
   "outputs": [],
   "source": [
    "solver.train_serverless(file = 'api_request.json')"
   ]
  },
  {
   "cell_type": "code",
   "execution_count": null,
   "id": "d32c06aa-a617-4ece-90dd-c7654b2aa070",
   "metadata": {},
   "outputs": [],
   "source": []
  }
 ],
 "metadata": {
  "kernelspec": {
   "display_name": "Python 3 (ipykernel)",
   "language": "python",
   "name": "python3"
  },
  "language_info": {
   "codemirror_mode": {
    "name": "ipython",
    "version": 3
   },
   "file_extension": ".py",
   "mimetype": "text/x-python",
   "name": "python",
   "nbconvert_exporter": "python",
   "pygments_lexer": "ipython3",
   "version": "3.11.5"
  },
  "widgets": {
   "application/vnd.jupyter.widget-state+json": {
    "state": {},
    "version_major": 2,
    "version_minor": 0
   }
  }
 },
 "nbformat": 4,
 "nbformat_minor": 5
}
